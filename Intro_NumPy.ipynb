{
  "cells": [
    {
      "cell_type": "markdown",
      "metadata": {
        "id": "view-in-github",
        "colab_type": "text"
      },
      "source": [
        "<a href=\"https://colab.research.google.com/github/ipuertaa/IA-DeepLearning/blob/main/Intro_NumPy.ipynb\" target=\"_parent\"><img src=\"https://colab.research.google.com/assets/colab-badge.svg\" alt=\"Open In Colab\"/></a>"
      ]
    },
    {
      "cell_type": "markdown",
      "metadata": {
        "id": "MxsahCOZ8u9Z"
      },
      "source": [
        "# Introducción a NumPy"
      ]
    },
    {
      "cell_type": "markdown",
      "metadata": {
        "id": "F00iTLhl8u9d"
      },
      "source": [
        "[Numpy](https://numpy.org) es una librería fundamental para la computación científica con Python.\n",
        "* Proporciona arrays N-dimensionales\n",
        "* Implementa funciones matemáticas sofisticadas\n",
        "* Proporciona herramientas para integrar C/C++ y Fortran\n",
        "* Proporciona mecanismos para facilitar la realización de tareas relacionadas con álgebra lineal o números aleatorios"
      ]
    },
    {
      "cell_type": "markdown",
      "metadata": {
        "id": "hS3OnIRC8u9d"
      },
      "source": [
        "## Imports"
      ]
    },
    {
      "cell_type": "code",
      "execution_count": null,
      "metadata": {
        "id": "4MUAk6q08u9e"
      },
      "outputs": [],
      "source": [
        "import numpy as np"
      ]
    },
    {
      "cell_type": "markdown",
      "metadata": {
        "id": "Xm_t_Xg58u9e"
      },
      "source": [
        "## Arrays"
      ]
    },
    {
      "cell_type": "markdown",
      "metadata": {
        "id": "a-QUsSUQ8u9f"
      },
      "source": [
        "Un **array** es una estructura de datos que consiste en una colección de elementos (valores o variables), cada uno identificado por al menos un índice o clave. Un array se almacena de modo que la posición de cada elemento se pueda calcular a partir de su tupla de índice mediante una fórmula matemática. El tipo más simple de array es un array lineal, también llamado array unidimensional."
      ]
    },
    {
      "cell_type": "markdown",
      "metadata": {
        "id": "Q6hrbLwQ8u9f"
      },
      "source": [
        "En numpy:\n",
        "* Cada dimensión se denomina **axis**\n",
        "* El número de dimensiones se denomina **rank**\n",
        "* La lista de dimensiones con su correspondiente longitud se denomina **shape**\n",
        "* El número total de elementos (multiplicación de la longitud de las dimensiones) se denomina **size**"
      ]
    },
    {
      "cell_type": "code",
      "execution_count": null,
      "metadata": {
        "id": "8sKSMcfH8u9f"
      },
      "outputs": [],
      "source": [
        "# Array cuyos valores son todos 0\n",
        "# Dentro del paréntesis va el shape del array (filas, columnas)\n",
        "a = np.zeros((2, 4))"
      ]
    },
    {
      "cell_type": "code",
      "execution_count": null,
      "metadata": {
        "colab": {
          "base_uri": "https://localhost:8080/"
        },
        "id": "Tc4U1SaO8u9f",
        "outputId": "172b4b3d-2482-47cd-c15d-3e0edc386974"
      },
      "outputs": [
        {
          "output_type": "execute_result",
          "data": {
            "text/plain": [
              "array([[0., 0., 0., 0.],\n",
              "       [0., 0., 0., 0.]])"
            ]
          },
          "metadata": {},
          "execution_count": 3
        }
      ],
      "source": [
        "a"
      ]
    },
    {
      "cell_type": "markdown",
      "metadata": {
        "id": "9a8-2AHX8u9g"
      },
      "source": [
        "_**a**_ es un array:\n",
        "* Con dos **axis**, el primero de longitud 2 y el segundo de longitud 4\n",
        "* Con un **rank** igual a 2\n",
        "* Con un **shape** igual (2, 4)\n",
        "* Con un **size** igual a 8"
      ]
    },
    {
      "cell_type": "code",
      "execution_count": null,
      "metadata": {
        "colab": {
          "base_uri": "https://localhost:8080/"
        },
        "id": "MVEs4I6u8u9g",
        "outputId": "0af037e0-6ead-4c9a-a9ec-4607d3aa0c2d"
      },
      "outputs": [
        {
          "output_type": "execute_result",
          "data": {
            "text/plain": [
              "(2, 4)"
            ]
          },
          "metadata": {},
          "execution_count": 4
        }
      ],
      "source": [
        "a.shape"
      ]
    },
    {
      "cell_type": "code",
      "execution_count": null,
      "metadata": {
        "colab": {
          "base_uri": "https://localhost:8080/"
        },
        "id": "Ih4yt7Ip8u9g",
        "outputId": "fcc227e3-7bcd-4819-adcb-d84c16559656"
      },
      "outputs": [
        {
          "output_type": "execute_result",
          "data": {
            "text/plain": [
              "2"
            ]
          },
          "metadata": {},
          "execution_count": 5
        }
      ],
      "source": [
        "a.ndim"
      ]
    },
    {
      "cell_type": "code",
      "execution_count": null,
      "metadata": {
        "colab": {
          "base_uri": "https://localhost:8080/"
        },
        "id": "fDMmCmQK8u9g",
        "outputId": "10a02a8a-9ace-4ff3-9ca0-359008e5f813"
      },
      "outputs": [
        {
          "output_type": "execute_result",
          "data": {
            "text/plain": [
              "8"
            ]
          },
          "metadata": {},
          "execution_count": 6
        }
      ],
      "source": [
        "a.size"
      ]
    },
    {
      "cell_type": "markdown",
      "metadata": {
        "id": "39P21hcA8u9g"
      },
      "source": [
        "## Creación de Arrays"
      ]
    },
    {
      "cell_type": "code",
      "execution_count": null,
      "metadata": {
        "colab": {
          "base_uri": "https://localhost:8080/"
        },
        "id": "7zBYPhkH8u9g",
        "outputId": "94fcdc17-5ee8-48f9-ddee-904ebe527d52"
      },
      "outputs": [
        {
          "output_type": "execute_result",
          "data": {
            "text/plain": [
              "array([[[0., 0., 0., 0.],\n",
              "        [0., 0., 0., 0.],\n",
              "        [0., 0., 0., 0.]],\n",
              "\n",
              "       [[0., 0., 0., 0.],\n",
              "        [0., 0., 0., 0.],\n",
              "        [0., 0., 0., 0.]]])"
            ]
          },
          "metadata": {},
          "execution_count": 7
        }
      ],
      "source": [
        "# Array cuyos valores son todos 0\n",
        "# Se pueden ver como listas anidadas, en este caso son 3\n",
        "np.zeros((2, 3, 4))"
      ]
    },
    {
      "cell_type": "code",
      "execution_count": null,
      "metadata": {
        "colab": {
          "base_uri": "https://localhost:8080/"
        },
        "id": "oPSljIsv8u9g",
        "outputId": "4d32f429-292b-44f4-a448-ff2048edf980"
      },
      "outputs": [
        {
          "output_type": "execute_result",
          "data": {
            "text/plain": [
              "array([[[1., 1., 1., 1.],\n",
              "        [1., 1., 1., 1.],\n",
              "        [1., 1., 1., 1.]],\n",
              "\n",
              "       [[1., 1., 1., 1.],\n",
              "        [1., 1., 1., 1.],\n",
              "        [1., 1., 1., 1.]]])"
            ]
          },
          "metadata": {},
          "execution_count": 8
        }
      ],
      "source": [
        "# Array cuyos valores son todos 1\n",
        "np.ones((2, 3, 4))"
      ]
    },
    {
      "cell_type": "code",
      "execution_count": null,
      "metadata": {
        "colab": {
          "base_uri": "https://localhost:8080/"
        },
        "id": "dd8mApOU8u9g",
        "outputId": "1e2f473f-252f-4288-f9d4-6271fbffe0d2"
      },
      "outputs": [
        {
          "output_type": "execute_result",
          "data": {
            "text/plain": [
              "array([[[8, 8, 8, 8],\n",
              "        [8, 8, 8, 8],\n",
              "        [8, 8, 8, 8]],\n",
              "\n",
              "       [[8, 8, 8, 8],\n",
              "        [8, 8, 8, 8],\n",
              "        [8, 8, 8, 8]]])"
            ]
          },
          "metadata": {},
          "execution_count": 9
        }
      ],
      "source": [
        "# Array cuyos valores son todos el valor indicado como segundo parámetro de la función\n",
        "np.full((2, 3, 4), 8)"
      ]
    },
    {
      "cell_type": "code",
      "execution_count": null,
      "metadata": {
        "colab": {
          "base_uri": "https://localhost:8080/"
        },
        "id": "fdgy_6rQ8u9h",
        "outputId": "284803f4-8c76-4090-eec7-1a9f2f96db0f"
      },
      "outputs": [
        {
          "output_type": "execute_result",
          "data": {
            "text/plain": [
              "array([[[4.80846727e-310, 0.00000000e+000, 6.86809131e-310,\n",
              "         6.86809131e-310, 6.86809131e-310, 6.86809131e-310,\n",
              "         6.86809131e-310, 6.86809129e-310, 6.86809130e-310],\n",
              "        [6.86809131e-310, 6.86809131e-310, 6.86809131e-310,\n",
              "         6.86809131e-310, 6.86809131e-310, 6.86809129e-310,\n",
              "         6.86809131e-310, 6.86809131e-310, 6.86809131e-310],\n",
              "        [6.86809131e-310, 6.86809130e-310, 6.86809131e-310,\n",
              "         6.86809131e-310, 6.86809131e-310, 6.86809131e-310,\n",
              "         6.86811043e-310, 6.86809131e-310, 6.86809131e-310]],\n",
              "\n",
              "       [[6.86809130e-310, 6.86809131e-310, 6.86809130e-310,\n",
              "         6.86809130e-310, 6.86809131e-310, 6.86809131e-310,\n",
              "         6.86809131e-310, 6.86811113e-310, 6.86811116e-310],\n",
              "        [6.86811113e-310, 6.86811113e-310, 6.86811113e-310,\n",
              "         6.86811113e-310, 6.86811113e-310, 6.86811113e-310,\n",
              "         6.86811113e-310, 6.86811113e-310, 6.86811113e-310],\n",
              "        [6.86811113e-310, 6.86811113e-310, 6.86811113e-310,\n",
              "         6.86811113e-310, 6.86811113e-310, 6.86811113e-310,\n",
              "         6.86811113e-310, 6.86811113e-310, 6.86811113e-310]]])"
            ]
          },
          "metadata": {},
          "execution_count": 10
        }
      ],
      "source": [
        "# El resultado de np.empty no es predecible\n",
        "# Inicializa los valores del array con lo que haya en memoria en ese momento\n",
        "np.empty((2, 3, 9))"
      ]
    },
    {
      "cell_type": "code",
      "execution_count": null,
      "metadata": {
        "colab": {
          "base_uri": "https://localhost:8080/"
        },
        "id": "_swRtk948u9h",
        "outputId": "4ebeb4cc-1aad-4bf6-e5d1-c2cad67f8f4e"
      },
      "outputs": [
        {
          "output_type": "execute_result",
          "data": {
            "text/plain": [
              "array([[1, 2, 3],\n",
              "       [4, 5, 6]])"
            ]
          },
          "metadata": {},
          "execution_count": 11
        }
      ],
      "source": [
        "# Inicializacion del array utilizando un array de Python\n",
        "b = np.array([[1, 2, 3], [4, 5, 6]])\n",
        "b"
      ]
    },
    {
      "cell_type": "code",
      "execution_count": null,
      "metadata": {
        "colab": {
          "base_uri": "https://localhost:8080/"
        },
        "id": "ytNhGwiY8u9h",
        "outputId": "f4be54c5-38fb-4c6c-bcb7-50a7848accec"
      },
      "outputs": [
        {
          "output_type": "execute_result",
          "data": {
            "text/plain": [
              "(2, 3)"
            ]
          },
          "metadata": {},
          "execution_count": 12
        }
      ],
      "source": [
        "b.shape"
      ]
    },
    {
      "cell_type": "code",
      "execution_count": null,
      "metadata": {
        "colab": {
          "base_uri": "https://localhost:8080/"
        },
        "id": "SIAYu1fR8u9h",
        "outputId": "7031c906-e20a-41fe-faff-4ce52fc89dc7"
      },
      "outputs": [
        {
          "output_type": "stream",
          "name": "stdout",
          "text": [
            "[0.         0.66666667 1.33333333 2.         2.66666667 3.33333333\n",
            " 4.         4.66666667 5.33333333 6.        ]\n"
          ]
        }
      ],
      "source": [
        "# Creación del array utilizando una función basada en rangos\n",
        "# (minimo, maximo, número elementos del array)\n",
        "print(np.linspace(0, 6, 10))"
      ]
    },
    {
      "cell_type": "code",
      "execution_count": null,
      "metadata": {
        "colab": {
          "base_uri": "https://localhost:8080/"
        },
        "id": "PN0_i2Ce8u9h",
        "outputId": "c09297fb-82be-4fa9-ccbe-faab5f3ab833"
      },
      "outputs": [
        {
          "output_type": "execute_result",
          "data": {
            "text/plain": [
              "array([[[0.03049152, 0.3145145 , 0.17512002, 0.87263833],\n",
              "        [0.09089389, 0.30595683, 0.9240169 , 0.98183169],\n",
              "        [0.51202908, 0.12639897, 0.03351295, 0.74902638]],\n",
              "\n",
              "       [[0.45753519, 0.51171787, 0.37013866, 0.30316922],\n",
              "        [0.71237285, 0.02555994, 0.75900139, 0.48094231],\n",
              "        [0.78863413, 0.89222518, 0.73034635, 0.34339386]]])"
            ]
          },
          "metadata": {},
          "execution_count": 14
        }
      ],
      "source": [
        "# Inicialización del array con valores aleatorios\n",
        "np.random.rand(2, 3, 4)"
      ]
    },
    {
      "cell_type": "code",
      "execution_count": null,
      "metadata": {
        "colab": {
          "base_uri": "https://localhost:8080/"
        },
        "id": "1YAhNYi38u9h",
        "outputId": "4fc91eb2-c15a-4334-cd7e-ff077b95417d"
      },
      "outputs": [
        {
          "output_type": "execute_result",
          "data": {
            "text/plain": [
              "array([[ 1.10367573,  0.67683773, -0.67940137,  2.05302253],\n",
              "       [ 1.14138892,  0.80328788, -0.33797508, -0.69738458]])"
            ]
          },
          "metadata": {},
          "execution_count": 15
        }
      ],
      "source": [
        "# Inicialización del array con valores aleatorios conforme a una distribución normal\n",
        "np.random.randn(2, 4)"
      ]
    },
    {
      "cell_type": "code",
      "execution_count": null,
      "metadata": {
        "colab": {
          "base_uri": "https://localhost:8080/",
          "height": 430
        },
        "id": "4Kdml_yU8u9h",
        "outputId": "1154b360-be85-4a8f-adeb-4c4d222b94e8"
      },
      "outputs": [
        {
          "output_type": "display_data",
          "data": {
            "text/plain": [
              "<Figure size 640x480 with 1 Axes>"
            ],
            "image/png": "[encoded data removed]"
          },
          "metadata": {}
        }
      ],
      "source": [
        "%matplotlib inline\n",
        "import matplotlib.pyplot as plt\n",
        "\n",
        "c = np.random.randn(1000000)\n",
        "\n",
        "plt.hist(c, bins=200)\n",
        "plt.show()"
      ]
    },
    {
      "cell_type": "code",
      "execution_count": null,
      "metadata": {
        "colab": {
          "base_uri": "https://localhost:8080/"
        },
        "id": "fkVDS_RN8u9h",
        "outputId": "cc745b47-42bd-4f5b-a3c6-0b1ef97c278c"
      },
      "outputs": [
        {
          "output_type": "execute_result",
          "data": {
            "text/plain": [
              "array([[ 0.,  2.,  4.,  6.,  8.],\n",
              "       [ 1.,  3.,  5.,  7.,  9.],\n",
              "       [ 2.,  4.,  6.,  8., 10.]])"
            ]
          },
          "metadata": {},
          "execution_count": 17
        }
      ],
      "source": [
        "# Inicialización del Array utilizando una función personalizada\n",
        "\n",
        "def func(x, y):\n",
        "    return x + 2 * y\n",
        "\n",
        "np.fromfunction(func, (3, 5))"
      ]
    },
    {
      "cell_type": "markdown",
      "metadata": {
        "id": "HM0O81638u9h"
      },
      "source": [
        "## Acceso a los elementos de un array"
      ]
    },
    {
      "cell_type": "markdown",
      "metadata": {
        "id": "snkPI-by8u9h"
      },
      "source": [
        "### Array unidimensional"
      ]
    },
    {
      "cell_type": "code",
      "execution_count": null,
      "metadata": {
        "colab": {
          "base_uri": "https://localhost:8080/"
        },
        "id": "JF90iu6r8u9h",
        "outputId": "a16eae3f-4bc5-4ff8-d883-5d69d23776b4"
      },
      "outputs": [
        {
          "output_type": "stream",
          "name": "stdout",
          "text": [
            "Shape: (6,)\n",
            "Array_uni: [ 1  3  5  7  9 11]\n"
          ]
        }
      ],
      "source": [
        "# Creación de un Array unidimensional\n",
        "array_uni = np.array([1, 3, 5, 7, 9, 11])\n",
        "print(\"Shape:\", array_uni.shape)\n",
        "print(\"Array_uni:\", array_uni)"
      ]
    },
    {
      "cell_type": "code",
      "execution_count": null,
      "metadata": {
        "id": "PMKoH0E_8u9h"
      },
      "outputs": [],
      "source": [
        "# Accediendo al quinto elemento del Array\n",
        "array_uni[4]"
      ]
    },
    {
      "cell_type": "code",
      "execution_count": null,
      "metadata": {
        "id": "purVUnqP8u9i"
      },
      "outputs": [],
      "source": [
        "# Accediendo al tercer y cuarto elemento del Array\n",
        "array_uni[2:4]"
      ]
    },
    {
      "cell_type": "code",
      "execution_count": null,
      "metadata": {
        "id": "sF5CEGrw8u9i"
      },
      "outputs": [],
      "source": [
        "# Accediendo a los elementos dando saltos de 3 en 3\n",
        "array_uni[0::3]"
      ]
    },
    {
      "cell_type": "markdown",
      "metadata": {
        "id": "ZJWXQAc28u9i"
      },
      "source": [
        "### Array multidimensional"
      ]
    },
    {
      "cell_type": "code",
      "execution_count": null,
      "metadata": {
        "colab": {
          "base_uri": "https://localhost:8080/"
        },
        "id": "2XEi3ypR8u9i",
        "outputId": "8dbe7d22-dd59-4c81-f850-8c4efcf99edc"
      },
      "outputs": [
        {
          "output_type": "stream",
          "name": "stdout",
          "text": [
            "Shape: (2, 4)\n",
            "Array_multi:\n",
            " [[1 2 3 4]\n",
            " [5 6 7 8]]\n"
          ]
        }
      ],
      "source": [
        "# Creación de un Array multidimensional\n",
        "array_multi = np.array([[1, 2, 3, 4], [5, 6, 7, 8]])\n",
        "print(\"Shape:\", array_multi.shape)\n",
        "print(\"Array_multi:\\n\", array_multi)"
      ]
    },
    {
      "cell_type": "code",
      "execution_count": null,
      "metadata": {
        "colab": {
          "base_uri": "https://localhost:8080/"
        },
        "id": "U4pXimOW8u9i",
        "outputId": "4eedd31d-4e52-4ce5-a70e-53ae8b07c8b4"
      },
      "outputs": [
        {
          "output_type": "execute_result",
          "data": {
            "text/plain": [
              "4"
            ]
          },
          "metadata": {},
          "execution_count": 20
        }
      ],
      "source": [
        "# Accediendo al cuarto elemento del Array\n",
        "array_multi[0, 3]"
      ]
    },
    {
      "cell_type": "code",
      "execution_count": null,
      "metadata": {
        "colab": {
          "base_uri": "https://localhost:8080/"
        },
        "id": "wF5ZqHzV8u9i",
        "outputId": "da3f3134-2084-4342-dd91-366badc1ae5c"
      },
      "outputs": [
        {
          "output_type": "execute_result",
          "data": {
            "text/plain": [
              "array([5, 6, 7, 8])"
            ]
          },
          "metadata": {},
          "execution_count": 21
        }
      ],
      "source": [
        "# Accediendo a la segunda fila del Array\n",
        "array_multi[1, :]"
      ]
    },
    {
      "cell_type": "code",
      "execution_count": null,
      "metadata": {
        "colab": {
          "base_uri": "https://localhost:8080/"
        },
        "id": "aQFYpFyv8u9i",
        "outputId": "448b4a46-47de-404a-83f8-2cd205bb09ae"
      },
      "outputs": [
        {
          "output_type": "execute_result",
          "data": {
            "text/plain": [
              "array([3, 7])"
            ]
          },
          "metadata": {},
          "execution_count": 25
        }
      ],
      "source": [
        "# Accediendo al tercer elemento de las dos primeras filas del Array\n",
        "array_multi[0:2, 2]\n",
        "array_multi[:, 2]"
      ]
    },
    {
      "cell_type": "markdown",
      "metadata": {
        "id": "clmBIF0F8u9i"
      },
      "source": [
        "## Modificación de un Array"
      ]
    },
    {
      "cell_type": "code",
      "execution_count": null,
      "metadata": {
        "colab": {
          "base_uri": "https://localhost:8080/"
        },
        "id": "h-MFmE9A8u9i",
        "outputId": "489be2da-22ab-431d-e8b2-e4e45eb26b9d"
      },
      "outputs": [
        {
          "output_type": "stream",
          "name": "stdout",
          "text": [
            "Shape: (28,)\n",
            "Array 1: [ 0  1  2  3  4  5  6  7  8  9 10 11 12 13 14 15 16 17 18 19 20 21 22 23\n",
            " 24 25 26 27]\n"
          ]
        }
      ],
      "source": [
        "# Creación de un Array unidimensional inicializado con el rango de elementos 0-27\n",
        "array1 = np.arange(28)\n",
        "print(\"Shape:\", array1.shape)\n",
        "print(\"Array 1:\", array1)"
      ]
    },
    {
      "cell_type": "code",
      "execution_count": null,
      "metadata": {
        "colab": {
          "base_uri": "https://localhost:8080/"
        },
        "id": "M1hSf8718u9i",
        "outputId": "c8fea967-31f3-4bca-8efa-d101f441e6f3"
      },
      "outputs": [
        {
          "output_type": "stream",
          "name": "stdout",
          "text": [
            "Shape: (7, 4)\n",
            "Array 1:\n",
            " [[ 0  1  2  3]\n",
            " [ 4  5  6  7]\n",
            " [ 8  9 10 11]\n",
            " [12 13 14 15]\n",
            " [16 17 18 19]\n",
            " [20 21 22 23]\n",
            " [24 25 26 27]]\n"
          ]
        }
      ],
      "source": [
        "# Cambiar las dimensiones del Array y sus longitudes\n",
        "array1.shape = (7, 4)\n",
        "print(\"Shape:\", array1.shape)\n",
        "print(\"Array 1:\\n\", array1)"
      ]
    },
    {
      "cell_type": "code",
      "execution_count": null,
      "metadata": {
        "colab": {
          "base_uri": "https://localhost:8080/"
        },
        "id": "FNYOD5xf8u9q",
        "outputId": "f33cb04c-fa70-42c8-cb36-6a36ccd064af"
      },
      "outputs": [
        {
          "output_type": "stream",
          "name": "stdout",
          "text": [
            "Shape: (4, 7)\n",
            "Array 2:\n",
            " [[ 0  1  2  3  4  5  6]\n",
            " [ 7  8  9 10 11 12 13]\n",
            " [14 15 16 17 18 19 20]\n",
            " [21 22 23 24 25 26 27]]\n"
          ]
        }
      ],
      "source": [
        "# El ejemplo anterior devuelve un nuevo Array que apunta a los mismos datos.\n",
        "# Importante: Modificaciones en un Array, modificaran el otro Array\n",
        "array2 = array1.reshape(4, 7)\n",
        "print(\"Shape:\", array2.shape)\n",
        "print(\"Array 2:\\n\", array2)"
      ]
    },
    {
      "cell_type": "code",
      "execution_count": null,
      "metadata": {
        "colab": {
          "base_uri": "https://localhost:8080/"
        },
        "id": "KN-GKtTy8u9q",
        "outputId": "912e3be3-b10f-4af4-a81e-ca8e189028d5"
      },
      "outputs": [
        {
          "output_type": "stream",
          "name": "stdout",
          "text": [
            "Array 2:\n",
            " [[ 0  1  2 20  4  5  6]\n",
            " [ 7  8  9 10 11 12 13]\n",
            " [14 15 16 17 18 19 20]\n",
            " [21 22 23 24 25 26 27]]\n"
          ]
        }
      ],
      "source": [
        "# Modificación del nuevo Array devuelto\n",
        "array2[0, 3] = 20\n",
        "print(\"Array 2:\\n\", array2)"
      ]
    },
    {
      "cell_type": "code",
      "execution_count": null,
      "metadata": {
        "colab": {
          "base_uri": "https://localhost:8080/"
        },
        "id": "3Lc52PkM8u9q",
        "outputId": "fa63c4ae-a53e-49c8-c156-2aab3046ffae"
      },
      "outputs": [
        {
          "output_type": "stream",
          "name": "stdout",
          "text": [
            "Array 1:\n",
            " [[ 0  1  2 20]\n",
            " [ 4  5  6  7]\n",
            " [ 8  9 10 11]\n",
            " [12 13 14 15]\n",
            " [16 17 18 19]\n",
            " [20 21 22 23]\n",
            " [24 25 26 27]]\n"
          ]
        }
      ],
      "source": [
        "# Notar que la modificación del valor también afectó al array original. (reshape es una referencia al array original, no una copia)\n",
        "# Para evitar esto, habría que utilizar el método copy() antes del reshape\n",
        "print(\"Array 1:\\n\", array1)"
      ]
    },
    {
      "cell_type": "code",
      "execution_count": null,
      "metadata": {
        "colab": {
          "base_uri": "https://localhost:8080/"
        },
        "id": "xfDXdavt8u9q",
        "outputId": "9c3465b5-6b50-4c53-b6c0-f059d456592c"
      },
      "outputs": [
        {
          "output_type": "stream",
          "name": "stdout",
          "text": [
            "Array 1: [ 0  1  2 20  4  5  6  7  8  9 10 11 12 13 14 15 16 17 18 19 20 21 22 23\n",
            " 24 25 26 27]\n"
          ]
        }
      ],
      "source": [
        "# Desenvuelve el Array, devolviendo un nuevo Array de una sola dimension\n",
        "# Importante: El nuevo array apunta a los mismos datos\n",
        "print(\"Array 1:\", array1.ravel())"
      ]
    },
    {
      "cell_type": "markdown",
      "metadata": {
        "id": "ZEx0zFwu8u9q"
      },
      "source": [
        "## Operaciones aritméticas con Arrays"
      ]
    },
    {
      "cell_type": "code",
      "execution_count": null,
      "metadata": {
        "colab": {
          "base_uri": "https://localhost:8080/"
        },
        "id": "Lhs2w1zd8u9q",
        "outputId": "d5f76f9f-48b0-4007-9404-bcee4aa62a9e"
      },
      "outputs": [
        {
          "output_type": "stream",
          "name": "stdout",
          "text": [
            "Array 1: [ 2  4  6  8 10 12 14 16]\n",
            "Array 2: [0 1 2 3 4 5 6 7]\n"
          ]
        }
      ],
      "source": [
        "# Creación de dos Arrays unidimensionales\n",
        "array1 = np.arange(2, 18, 2)\n",
        "array2 = np.arange(8)\n",
        "print(\"Array 1:\", array1)\n",
        "print(\"Array 2:\", array2)"
      ]
    },
    {
      "cell_type": "code",
      "execution_count": null,
      "metadata": {
        "colab": {
          "base_uri": "https://localhost:8080/"
        },
        "id": "An1WZN5G8u9r",
        "outputId": "15a18ef8-0a84-46d1-be24-4691c1241844"
      },
      "outputs": [
        {
          "output_type": "stream",
          "name": "stdout",
          "text": [
            "[ 2  5  8 11 14 17 20 23]\n"
          ]
        }
      ],
      "source": [
        "# Suma\n",
        "print(array1 + array2)"
      ]
    },
    {
      "cell_type": "code",
      "execution_count": null,
      "metadata": {
        "colab": {
          "base_uri": "https://localhost:8080/"
        },
        "id": "ps_qQTBx8u9r",
        "outputId": "564a4ed8-ca8f-46fc-da0c-029721ded029"
      },
      "outputs": [
        {
          "output_type": "stream",
          "name": "stdout",
          "text": [
            "[2 3 4 5 6 7 8 9]\n"
          ]
        }
      ],
      "source": [
        "# Resta\n",
        "print(array1 - array2)"
      ]
    },
    {
      "cell_type": "code",
      "execution_count": null,
      "metadata": {
        "colab": {
          "base_uri": "https://localhost:8080/"
        },
        "id": "opgZ9HEo8u9r",
        "outputId": "4895a761-a93c-4b96-896a-6bc4db604e1a"
      },
      "outputs": [
        {
          "output_type": "stream",
          "name": "stdout",
          "text": [
            "[  0   4  12  24  40  60  84 112]\n"
          ]
        }
      ],
      "source": [
        "# Multiplicacion\n",
        "# Importante: No es un producto punto\n",
        "print(array1 * array2)"
      ]
    },
    {
      "cell_type": "markdown",
      "metadata": {
        "id": "fND345vC8u9r"
      },
      "source": [
        "## Broadcasting"
      ]
    },
    {
      "cell_type": "markdown",
      "metadata": {
        "id": "Kmdq1Xz68u9r"
      },
      "source": [
        "Si se aplican operaciones aritméticas sobre Arrays que no tienen la misma forma (shape) Numpy aplica un propiedad que se denomina Broadcasting."
      ]
    },
    {
      "cell_type": "code",
      "execution_count": null,
      "metadata": {
        "colab": {
          "base_uri": "https://localhost:8080/"
        },
        "id": "qWHvt3Wy8u9r",
        "outputId": "841ae696-8d71-4be0-98f3-bb33843babcd"
      },
      "outputs": [
        {
          "output_type": "stream",
          "name": "stdout",
          "text": [
            "Shape Array 1: (5,)\n",
            "Array 1: [0 1 2 3 4]\n",
            "\n",
            "Shape Array 2: (1,)\n",
            "Array 2: [3]\n"
          ]
        }
      ],
      "source": [
        "# Creación de dos Arrays unidimensionales\n",
        "array1 = np.arange(5)\n",
        "array2 = np.array([3])\n",
        "print(\"Shape Array 1:\", array1.shape)\n",
        "print(\"Array 1:\", array1)\n",
        "print()\n",
        "print(\"Shape Array 2:\", array2.shape)\n",
        "print(\"Array 2:\", array2)"
      ]
    },
    {
      "cell_type": "code",
      "execution_count": null,
      "metadata": {
        "colab": {
          "base_uri": "https://localhost:8080/"
        },
        "id": "gYEqWz3F8u9r",
        "outputId": "cba76fe8-2797-4b48-f444-852e34281e1c"
      },
      "outputs": [
        {
          "output_type": "execute_result",
          "data": {
            "text/plain": [
              "array([3, 4, 5, 6, 7])"
            ]
          },
          "metadata": {},
          "execution_count": 38
        }
      ],
      "source": [
        "# Suma de ambos Arrays\n",
        "# El segundo array es como si fuera un array de 5 elementos lleno de 3\n",
        "array1 + array2"
      ]
    },
    {
      "cell_type": "code",
      "execution_count": null,
      "metadata": {
        "colab": {
          "base_uri": "https://localhost:8080/"
        },
        "id": "ahVXJkph8u9r",
        "outputId": "e8b3dabd-480d-46a6-d563-4bd35afe1943"
      },
      "outputs": [
        {
          "output_type": "stream",
          "name": "stdout",
          "text": [
            "Shape Array 1: (2, 3)\n",
            "Array 1:\n",
            " [[0 1 2]\n",
            " [3 4 5]]\n",
            "\n",
            "Shape Array 2: (3,)\n",
            "Array 2: [ 6 10 14]\n"
          ]
        }
      ],
      "source": [
        "# Creación de dos Arrays multidimensional y unidimensional\n",
        "array1 = np.arange(6)\n",
        "array1.shape = (2, 3)\n",
        "array2 = np.arange(6, 18, 4)\n",
        "print(\"Shape Array 1:\", array1.shape)\n",
        "print(\"Array 1:\\n\", array1)\n",
        "print()\n",
        "print(\"Shape Array 2:\", array2.shape)\n",
        "print(\"Array 2:\", array2)"
      ]
    },
    {
      "cell_type": "code",
      "execution_count": null,
      "metadata": {
        "colab": {
          "base_uri": "https://localhost:8080/"
        },
        "id": "Sgpec-SH8u9r",
        "outputId": "71fdab9d-72e8-41c3-ecae-a1766115004e"
      },
      "outputs": [
        {
          "output_type": "execute_result",
          "data": {
            "text/plain": [
              "array([[ 6, 11, 16],\n",
              "       [ 9, 14, 19]])"
            ]
          },
          "metadata": {},
          "execution_count": 40
        }
      ],
      "source": [
        "# Suma de ambos Arrays\n",
        "array1 + array2"
      ]
    },
    {
      "cell_type": "markdown",
      "metadata": {
        "id": "TrvHdSMG8u9r"
      },
      "source": [
        "## Funciones estadísticas sobre Arrays"
      ]
    },
    {
      "cell_type": "code",
      "execution_count": null,
      "metadata": {
        "colab": {
          "base_uri": "https://localhost:8080/"
        },
        "id": "5_oJa81-8u9r",
        "outputId": "8497e0b3-d37c-471b-8c56-396f88e80015"
      },
      "outputs": [
        {
          "output_type": "stream",
          "name": "stdout",
          "text": [
            "Array 1: [ 1  3  5  7  9 11 13 15 17 19]\n"
          ]
        }
      ],
      "source": [
        "# Creación de un Array unidimensional\n",
        "array1 = np.arange(1, 20, 2)\n",
        "print(\"Array 1:\", array1)"
      ]
    },
    {
      "cell_type": "code",
      "execution_count": null,
      "metadata": {
        "colab": {
          "base_uri": "https://localhost:8080/"
        },
        "id": "bpMJWUyW8u9r",
        "outputId": "551b0f66-691e-4401-ed66-7300ca5fbfde"
      },
      "outputs": [
        {
          "output_type": "execute_result",
          "data": {
            "text/plain": [
              "10.0"
            ]
          },
          "metadata": {},
          "execution_count": 42
        }
      ],
      "source": [
        "# Media de los elementos del Array\n",
        "array1.mean()"
      ]
    },
    {
      "cell_type": "code",
      "execution_count": null,
      "metadata": {
        "colab": {
          "base_uri": "https://localhost:8080/"
        },
        "id": "0ijfSq1l8u9s",
        "outputId": "4b739acb-7562-4bd5-962d-5aa681d70a89"
      },
      "outputs": [
        {
          "output_type": "execute_result",
          "data": {
            "text/plain": [
              "100"
            ]
          },
          "metadata": {},
          "execution_count": 43
        }
      ],
      "source": [
        "# Suma de los elementos del Array\n",
        "array1.sum()"
      ]
    },
    {
      "cell_type": "markdown",
      "metadata": {
        "id": "O3LbnZ4I8u9s"
      },
      "source": [
        "Funciones universales eficientes proporcionadas por numpy: **ufunc**"
      ]
    },
    {
      "cell_type": "code",
      "execution_count": null,
      "metadata": {
        "colab": {
          "base_uri": "https://localhost:8080/"
        },
        "id": "HI7Hrmf58u9s",
        "outputId": "a898baed-3dd6-4f68-a67b-218d6d483e9a"
      },
      "outputs": [
        {
          "output_type": "execute_result",
          "data": {
            "text/plain": [
              "array([  1,   9,  25,  49,  81, 121, 169, 225, 289, 361])"
            ]
          },
          "metadata": {},
          "execution_count": 44
        }
      ],
      "source": [
        "# Cuadrado de los elementos del Array\n",
        "np.square(array1)"
      ]
    },
    {
      "cell_type": "code",
      "execution_count": null,
      "metadata": {
        "colab": {
          "base_uri": "https://localhost:8080/"
        },
        "id": "eQDCUPIL8u9s",
        "outputId": "21e198cb-40e7-40a4-8233-20f16aa5f563"
      },
      "outputs": [
        {
          "output_type": "execute_result",
          "data": {
            "text/plain": [
              "array([1.        , 1.73205081, 2.23606798, 2.64575131, 3.        ,\n",
              "       3.31662479, 3.60555128, 3.87298335, 4.12310563, 4.35889894])"
            ]
          },
          "metadata": {},
          "execution_count": 46
        }
      ],
      "source": [
        "# Raiz cuadrada de los elementos del Array\n",
        "np.sqrt(array1)"
      ]
    },
    {
      "cell_type": "code",
      "execution_count": null,
      "metadata": {
        "colab": {
          "base_uri": "https://localhost:8080/"
        },
        "id": "1SHyFW3a8u9s",
        "outputId": "00b69c0c-f3eb-4018-bda5-44b34b4c8aca"
      },
      "outputs": [
        {
          "output_type": "execute_result",
          "data": {
            "text/plain": [
              "array([2.71828183e+00, 2.00855369e+01, 1.48413159e+02, 1.09663316e+03,\n",
              "       8.10308393e+03, 5.98741417e+04, 4.42413392e+05, 3.26901737e+06,\n",
              "       2.41549528e+07, 1.78482301e+08])"
            ]
          },
          "metadata": {},
          "execution_count": 47
        }
      ],
      "source": [
        "# Exponencial de los elementos del Array\n",
        "np.exp(array1)"
      ]
    },
    {
      "cell_type": "code",
      "execution_count": null,
      "metadata": {
        "colab": {
          "base_uri": "https://localhost:8080/"
        },
        "id": "f3WE7JxU8u9s",
        "outputId": "f71a288e-9bbb-403b-e953-e9099005d333"
      },
      "outputs": [
        {
          "output_type": "execute_result",
          "data": {
            "text/plain": [
              "array([0.        , 1.09861229, 1.60943791, 1.94591015, 2.19722458,\n",
              "       2.39789527, 2.56494936, 2.7080502 , 2.83321334, 2.94443898])"
            ]
          },
          "metadata": {},
          "execution_count": 48
        }
      ],
      "source": [
        "# log de los elementos del Array\n",
        "np.log(array1)"
      ]
    },
    {
      "cell_type": "code",
      "execution_count": null,
      "metadata": {
        "colab": {
          "base_uri": "https://localhost:8080/"
        },
        "id": "LsUgsA-C8u9s",
        "outputId": "45a487ce-5b07-4299-9971-caaf68427384"
      },
      "outputs": [
        {
          "output_type": "stream",
          "name": "stdout",
          "text": [
            "Help on built-in function max:\n",
            "\n",
            "max(...) method of numpy.ndarray instance\n",
            "    a.max(axis=None, out=None, keepdims=False, initial=<no value>, where=True)\n",
            "    \n",
            "    Return the maximum along a given axis.\n",
            "    \n",
            "    Refer to `numpy.amax` for full documentation.\n",
            "    \n",
            "    See Also\n",
            "    --------\n",
            "    numpy.amax : equivalent function\n",
            "\n"
          ]
        }
      ],
      "source": [
        "# Para conocer todos los métodos disponibles\n",
        "dir(array1)\n",
        "\n",
        "# Para saber más sobre algún método\n",
        "help(array1.max)"
      ]
    }
  ],
  "metadata": {
    "kernelspec": {
      "display_name": "Python 3",
      "language": "python",
      "name": "python3"
    },
    "language_info": {
      "codemirror_mode": {
        "name": "ipython",
        "version": 3
      },
      "file_extension": ".py",
      "mimetype": "text/x-python",
      "name": "python",
      "nbconvert_exporter": "python",
      "pygments_lexer": "ipython3",
      "version": "3.8.5"
    },
    "colab": {
      "provenance": [],
      "include_colab_link": true
    }
  },
  "nbformat": 4,
  "nbformat_minor": 0
}